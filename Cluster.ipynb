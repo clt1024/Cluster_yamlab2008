{
 "cells": [
  {
   "cell_type": "markdown",
   "metadata": {},
   "source": [
    "シミュレーション(1)-パーコレーション"
   ]
  },
  {
   "cell_type": "code",
   "execution_count": 359,
   "metadata": {
    "collapsed": false
   },
   "outputs": [
    {
     "data": {
      "text/plain": [
       "<matplotlib.image.AxesImage at 0x21f29004940>"
      ]
     },
     "execution_count": 359,
     "metadata": {},
     "output_type": "execute_result"
    },
    {
     "data": {
      "image/png": "[encoded data removed]",
      "text/plain": [
       "<Figure size 432x288 with 1 Axes>"
      ]
     },
     "metadata": {},
     "output_type": "display_data"
    }
   ],
   "source": [
    "#############################################目標: 【パーコレーションをグラフから定性的に理解する】###################\n",
    "%matplotlib inline\n",
    "import numpy as np\n",
    "import matplotlib.pyplot as plt\n",
    "import collections\n",
    "from scipy import optimize\n",
    "####################################ここのパラメーター　占有確率 p  と　クラスターサイズ L  を変える  #################\n",
    "L =61\n",
    "p = 0.6\n",
    "##################################################################################################################\n",
    "A = np.zeros([L+1,L+1],dtype=int)\n",
    "B = np.random.rand(L,L)\n",
    "D = np.zeros([L,L],dtype=int)\n",
    "\n",
    "def percolate(p):\n",
    "    for i in range(L):\n",
    "        for j in range(L):\n",
    "            if B[i][j] >=1-p:\n",
    "                B[i][j]=1\n",
    "            else:\n",
    "                B[i][j]=0 \n",
    "              \n",
    "percolate(p)\n",
    "plt.imshow(B)\n",
    "##############################################################シミュレーション実行は　　Ctrl + Enter 同時押し ########"
   ]
  },
  {
   "cell_type": "markdown",
   "metadata": {
    "collapsed": true
   },
   "source": [
    "シミュレーション(2)-パーコレーション確率"
   ]
  },
  {
   "cell_type": "code",
   "execution_count": 361,
   "metadata": {
    "collapsed": false,
    "scrolled": false
   },
   "outputs": [
    {
     "data": {
      "text/plain": [
       "<matplotlib.legend.Legend at 0x21f28f790f0>"
      ]
     },
     "execution_count": 361,
     "metadata": {},
     "output_type": "execute_result"
    },
    {
     "data": {
      "image/png": "[encoded data removed]",
      "text/plain": [
       "<Figure size 432x288 with 1 Axes>"
      ]
     },
     "metadata": {},
     "output_type": "display_data"
    }
   ],
   "source": [
    "#############################################目標: 【 パーコレーション閾値を求める 】###################\n",
    "%matplotlib inline\n",
    "import numpy as np\n",
    "import matplotlib.pyplot as plt\n",
    "def right(tag,label):\n",
    "    if tag[label-1] == label:\n",
    "        return label\n",
    "    else:\n",
    "        return right(tag,tag[label-1])\n",
    "            \n",
    "def percolate(p,N):\n",
    "    A = np.zeros([N+1,N+1],dtype=int)\n",
    "    B = np.random.rand(N,N)\n",
    "    D = np.zeros([N,N],dtype=int)\n",
    "    n=1\n",
    "    tag=[1]\n",
    "    for i in range(N):\n",
    "        for j in range(N):\n",
    "            if B[i][j] >=1-p:    \n",
    "                B[i][j]=1\n",
    "            else:\n",
    "                B[i][j]=0 \n",
    "    \n",
    "    for i in range(N):\n",
    "        for j in range(N):\n",
    "            A[i+1][j+1]=B[i][j]\n",
    "    \n",
    "    for i in range(1,N+1):\n",
    "        for j in range(1,N+1):\n",
    "            if A[i][j]!=0:\n",
    "                if A[i-1][j]+A[i][j-1]==0:  \n",
    "                    A[i][j]=n\n",
    "                    n+=1\n",
    "                    tag.append(n)\n",
    "                \n",
    "                elif A[i-1][j]>0 and A[i][j-1]==0: \n",
    "                    A[i][j]=A[i-1][j]\n",
    "                \n",
    "                elif A[i][j-1]>0 and A[i-1][j]==0:\n",
    "                    A[i][j]=A[i][j-1]\n",
    "                else:\n",
    "                    if A[i-1][j]==A[i][j-1]:\n",
    "                        A[i][j]= A[i-1][j]\n",
    "                    else:\n",
    "                        MIN = min(A[i-1][j],A[i][j-1])\n",
    "                        MAX = max(A[i-1][j],A[i][j-1])\n",
    "                        A[i][j] = tag[MIN-1]\n",
    "                        tag[MAX-1] = tag[MIN-1]\n",
    "            else:\n",
    "                continue\n",
    "   \n",
    "    for i in range(1,N+1):\n",
    "        for j in range(1,N+1):\n",
    "            if A[i][j]!=0:\n",
    "                A[i][j] = right(tag,A[i][j])\n",
    "            else:\n",
    "                continue\n",
    "            \n",
    "    for i in range(N):\n",
    "        for j in range(N):\n",
    "            D[i][j] = A[i+1][j+1]\n",
    "     \n",
    "    \n",
    "    K = np.nanmax(np.intersect1d(D[0,:],D[N-1,:]))\n",
    "    L = np.nanmax(np.intersect1d(D[:,0],D[:,N-1]))\n",
    "                \n",
    "    if K != 0 :\n",
    "        return 1\n",
    "    else:\n",
    "        if L != 0:\n",
    "            return 1\n",
    "        else:\n",
    "            return 0\n",
    "\n",
    "\n",
    "def get_data(a,b,trial):\n",
    "    data = 0\n",
    "    for i in range(trial):\n",
    "        data = data + percolate(a,b)\n",
    "    return data/trial\n",
    "\n",
    "re =[[]]\n",
    "########################################### ここのパラメータ　試行回数 t　と　クラスターサイズ Lを変える ##############\n",
    "t = 10\n",
    "L = 100\n",
    "##################################################################################################################\n",
    "p_x =np.array([0.05,0.10,0.15,0.20,0.25,0.30,0.35,0.40,0.45,0.50,0.55,0.60,0.65,0.70,0.75,0.80,0.85,0.90,0.95,1.00])\n",
    "x0 = np.append(re,get_data(p_x[0],L,t))\n",
    "x1 = np.append(re,get_data(p_x[1],L,t))\n",
    "x2 = np.append(re,get_data(p_x[2],L,t))\n",
    "x3 = np.append(re,get_data(p_x[3],L,t))\n",
    "x4 = np.append(re,get_data(p_x[4],L,t))\n",
    "x5 = np.append(re,get_data(p_x[5],L,t))\n",
    "x6 = np.append(re,get_data(p_x[6],L,t))\n",
    "x7 = np.append(re,get_data(p_x[7],L,t))\n",
    "x8 = np.append(re,get_data(p_x[8],L,t))\n",
    "x9 = np.append(re,get_data(p_x[9],L,t))\n",
    "x10 = np.append(re,get_data(p_x[10],L,t))\n",
    "x11 = np.append(re,get_data(p_x[11],L,t))\n",
    "x12 = np.append(re,get_data(p_x[12],L,t))\n",
    "x13 = np.append(re,get_data(p_x[13],L,t))\n",
    "x14 = np.append(re,get_data(p_x[14],L,t))\n",
    "x15 = np.append(re,get_data(p_x[15],L,t))\n",
    "x16 = np.append(re,get_data(p_x[16],L,t))\n",
    "x17 = np.append(re,get_data(p_x[17],L,t))\n",
    "x18 = np.append(re,get_data(p_x[18],L,t))\n",
    "x19 = np.append(re,get_data(p_x[19],L,t))\n",
    "y_data =np.array([x0,x1,x2,x3,x4,x5,x6,x7,x8,x9,x10,x11,x12,x13,x14,x15,x16,x17,x18,x19])\n",
    "\n",
    "plt.ylabel(r'$Percolation\\,Density$',fontsize=11)\n",
    "plt.xlabel(r'$Occupation\\,Probability$',fontsize=11)\n",
    "plt.plot(p_x,y_data,'-o',label='Percolate probability',alpha=0.7)\n",
    "plt.legend(loc ='best')\n",
    "##############################################################シミュレーション実行は　　Ctrl + Enter 同時押し ########"
   ]
  },
  {
   "cell_type": "markdown",
   "metadata": {},
   "source": [
    "シミュレーション(3)-フラクタル次元"
   ]
  },
  {
   "cell_type": "code",
   "execution_count": 378,
   "metadata": {
    "collapsed": false
   },
   "outputs": [
    {
     "name": "stderr",
     "output_type": "stream",
     "text": [
      "C:\\Users\\clt10\\Anaconda3\\lib\\site-packages\\numpy\\core\\_methods.py:59: RuntimeWarning: Mean of empty slice.\n",
      "  warnings.warn(\"Mean of empty slice.\", RuntimeWarning)\n",
      "C:\\Users\\clt10\\Anaconda3\\lib\\site-packages\\numpy\\core\\_methods.py:70: RuntimeWarning: invalid value encountered in double_scalars\n",
      "  ret = ret.dtype.type(ret / rcount)\n",
      "C:\\Users\\clt10\\Anaconda3\\lib\\site-packages\\scipy\\optimize\\minpack.py:427: RuntimeWarning: Number of calls to function has reached maxfev = 600.\n",
      "  warnings.warn(errors[info][0], RuntimeWarning)\n"
     ]
    },
    {
     "data": {
      "text/plain": [
       "nan"
      ]
     },
     "execution_count": 378,
     "metadata": {},
     "output_type": "execute_result"
    },
    {
     "data": {
      "image/png": "[encoded data removed]",
      "text/plain": [
       "<Figure size 432x288 with 1 Axes>"
      ]
     },
     "metadata": {},
     "output_type": "display_data"
    }
   ],
   "source": [
    "#############################################目標: 【 フラクタル次元を求める 】##########################\n",
    "%matplotlib inline\n",
    "import numpy as np\n",
    "import matplotlib.pyplot as plt\n",
    "import collections\n",
    "from scipy import optimize\n",
    "#################################################クラスターサイズ N は各自変えて良い #######################\n",
    "N =100\n",
    "##########################################################################################################\n",
    "A = np.zeros([N+1,N+1],dtype=int)\n",
    "B = np.random.rand(N,N)\n",
    "D = np.zeros([N,N],dtype=int)\n",
    "n=1\n",
    "tag=[1]\n",
    "\n",
    "def percolate(p):\n",
    "    for i in range(N):\n",
    "        for j in range(N):\n",
    "            if B[i][j] >=1-p:\n",
    "                B[i][j]=1\n",
    "            else:\n",
    "                B[i][j]=0 \n",
    "                \n",
    "percolate(0.63)\n",
    "\n",
    "\n",
    "for i in range(N):\n",
    "    for j in range(N):\n",
    "        A[i+1][j+1]=B[i][j]\n",
    "\n",
    "\n",
    "def right(tag,label):\n",
    "    if tag[label-1] == label:\n",
    "        return label\n",
    "    else:\n",
    "        return right(tag,tag[label-1])\n",
    "        \n",
    "\n",
    "for i in range(1,N+1):\n",
    "    for j in range(1,N+1):\n",
    "        if A[i][j]!=0:\n",
    "            if A[i-1][j]+A[i][j-1]==0:  #←↑0なら新しくラベル付け\n",
    "                A[i][j]=n\n",
    "                n+=1\n",
    "                tag.append(n)\n",
    "                \n",
    "            elif A[i-1][j]>0 and A[i][j-1]==0:           #←1なら受け継ぐ\n",
    "                A[i][j]=A[i-1][j]\n",
    "                \n",
    "            elif A[i][j-1]>0 and A[i-1][j]==0:\n",
    "                A[i][j]=A[i][j-1]            #↑1なら受け継ぐ\n",
    "            else:\n",
    "                if A[i-1][j]==A[i][j-1]:\n",
    "                    A[i][j]= A[i-1][j]\n",
    "                else:\n",
    "                    MIN = min(A[i-1][j],A[i][j-1])\n",
    "                    MAX = max(A[i-1][j],A[i][j-1])\n",
    "                    A[i][j] = tag[MIN-1]\n",
    "                    tag[MAX-1] = tag[MIN-1]\n",
    "                    \n",
    "        else:\n",
    "            continue\n",
    "\n",
    "\n",
    "for i in range(1,N+1):\n",
    "    for j in range(1,N+1):\n",
    "        if A[i][j]!=0:\n",
    "            A[i][j] = right(tag,A[i][j])\n",
    "        else:\n",
    "            continue\n",
    "            \n",
    "\n",
    "for i in range(N):\n",
    "    for j in range(N):\n",
    "        D[i][j] = A[i+1][j+1]\n",
    "D0 = D.reshape([1,N*N])\n",
    "D1 = D0[D0 != 0]\n",
    "\n",
    "c=collections.Counter(D1)\n",
    "M = c.most_common()[0][0]\n",
    "L = c.most_common()[0][1]\n",
    "\n",
    "for i in range(N):\n",
    "    for j in range(N):\n",
    "        if D[i][j]==M:\n",
    "            D[i][j]= D[i][j]\n",
    "        else:\n",
    "            D[i][j]= 0\n",
    "            \n",
    "nonzero = np.nonzero(D)\n",
    "\n",
    "x0 = nonzero[0][0]\n",
    "y0 = nonzero[1][0]\n",
    "M_b =[]                 \n",
    "\n",
    "###########################################################視野拡大法(正方形ベース)################################\n",
    "L = len(D)              \n",
    "\n",
    "for k in range(1,int(L/2)+1):\n",
    "    b = np.array([0])\n",
    "    for i,j in zip(nonzero[0],nonzero[1]):\n",
    "        Rmax = min(L-i,L-j)\n",
    "        if Rmax >=2*k:\n",
    "            b = np.append(b,np.sum(D[i:i+2*k,j:j+2*k]))\n",
    "        else:\n",
    "            b = np.append(b, 0)\n",
    "        y = np.average(b[np.nonzero(b)])\n",
    "    M_b.append(y)\n",
    "\n",
    "radius =[[]]\n",
    "for i in range(1,int(L/2)+1):\n",
    "    radius= np.append(radius,2*i)\n",
    "\n",
    "    \n",
    "X = np.array(radius)\n",
    "Y = np.array(M_b)\n",
    "##############################################################最小二乗法によるフィッティング####################\n",
    "parameter_initial = np.array([0.0,0.0])\n",
    "\n",
    "def fit(x,a,b):\n",
    "    return np.exp(a)*(x**b)\n",
    "\n",
    "def residual_func(parameter, x, y):\n",
    "    residue = y - fit(x,parameter[0], parameter[1])\n",
    "    return residue\n",
    "\n",
    "\n",
    "result = optimize.leastsq(residual_func, parameter_initial, args =(X,Y))\n",
    "\n",
    "parameter_optimal = result[0]\n",
    "y = fit(X, parameter_optimal[0],parameter_optimal[1])\n",
    "\n",
    "#両対数のグラフ書く\n",
    "plt.xscale('log')\n",
    "plt.yscale('log')\n",
    "plt.title('Fractal_Dimension')\n",
    "plt.xlabel(r'$b$', fontsize=11)\n",
    "plt.ylabel(r'$M(b)$',fontsize=11)\n",
    "plt.plot(X,Y,'o',label='P = 0.593',alpha=0.6)\n",
    "plt.plot(X,y,'g-', label='fitted_func')\n",
    "plt.legend(loc='best')\n",
    "parameter_optimal[1]\n",
    "##############################################################シミュレーション実行は　　Ctrl + Enter 同時押し ########"
   ]
  },
  {
   "cell_type": "markdown",
   "metadata": {},
   "source": [
    "シミュレーション(4)-粗視化"
   ]
  },
  {
   "cell_type": "code",
   "execution_count": null,
   "metadata": {
    "collapsed": true
   },
   "outputs": [],
   "source": [
    "#############################################目標: 【 粗視化した場合のパーコレーション 】##########################\n",
    "%matplotlib inline\n",
    "import numpy as np\n",
    "import matplotlib.pyplot as plt\n",
    "import collections\n",
    "from scipy import optimize\n",
    "####################################ここのパラメーター　占有確率 p  と　クラスターサイズ L  を変える  #################\n",
    "L =61\n",
    "p = 0.6\n",
    "##################################################################################################################\n",
    "A = np.zeros([L+1,L+1],dtype=int)\n",
    "B = np.random.rand(L,L)\n",
    "D = np.zeros([L,L],dtype=int)\n",
    "\n",
    "def percolate(p):\n",
    "    for i in range(L):\n",
    "        for j in range(L):\n",
    "            if B[i][j] >=1-p:\n",
    "                B[i][j]=1\n",
    "            else:\n",
    "                B[i][j]=0 \n",
    "              \n",
    "percolate(p)\n",
    "plt.imshow(B)"
   ]
  }
 ],
 "metadata": {
  "anaconda-cloud": {},
  "kernelspec": {
   "display_name": "Python [default]",
   "language": "python",
   "name": "python3"
  },
  "language_info": {
   "codemirror_mode": {
    "name": "ipython",
    "version": 3
   },
   "file_extension": ".py",
   "mimetype": "text/x-python",
   "name": "python",
   "nbconvert_exporter": "python",
   "pygments_lexer": "ipython3",
   "version": "3.5.2"
  }
 },
 "nbformat": 4,
 "nbformat_minor": 1
}
